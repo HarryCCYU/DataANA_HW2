{
 "cells": [
  {
   "cell_type": "code",
   "execution_count": 1,
   "metadata": {},
   "outputs": [
    {
     "name": "stderr",
     "output_type": "stream",
     "text": [
      "c:\\users\\harry\\appdata\\local\\programs\\python\\python36\\lib\\site-packages\\ipykernel_launcher.py:11: SettingWithCopyWarning: \n",
      "A value is trying to be set on a copy of a slice from a DataFrame\n",
      "\n",
      "See the caveats in the documentation: http://pandas.pydata.org/pandas-docs/stable/indexing.html#indexing-view-versus-copy\n",
      "  # This is added back by InteractiveShellApp.init_path()\n",
      "c:\\users\\harry\\appdata\\local\\programs\\python\\python36\\lib\\site-packages\\ipykernel_launcher.py:13: SettingWithCopyWarning: \n",
      "A value is trying to be set on a copy of a slice from a DataFrame\n",
      "\n",
      "See the caveats in the documentation: http://pandas.pydata.org/pandas-docs/stable/indexing.html#indexing-view-versus-copy\n",
      "  del sys.path[0]\n"
     ]
    },
    {
     "name": "stdout",
     "output_type": "stream",
     "text": [
      "     犯第二次以上  是否為自用車  是否以車子維生(例:送貨卡車、計程車)  營利與否  民眾舉證辯護 win_loss\n",
      "0         0       0                    0     1       0        0\n",
      "1         0       0                    0     1       0        0\n",
      "2         0       0                    0     1       0        0\n",
      "3         0       0                    0     1       0        0\n",
      "4         0       0                    1     0       0        0\n",
      "5         0       1                    1     1       0        0\n",
      "6         0       1                    1     1       0        1\n",
      "7         0       1                    0     1       0        0\n",
      "8         0       0                    0     1       1        1\n",
      "9         0       1                    0     1       0        0\n",
      "10        0       1                    0     1       0        0\n",
      "11        0       1                    0     1       0        0\n",
      "12        0       1                    0     1       0        0\n",
      "13        0       1                    0     1       0        0\n",
      "14        0       1                    0     1       0        0\n",
      "15        0       0                    0     1       0        0\n",
      "16        0       1                    0     1       0        0\n",
      "17        0       0                    0     0       1        0\n",
      "18        1       1                    0     1       1        0\n",
      "19        1       1                    0     1       1        0\n",
      "20        1       1                    0     1       1        1\n",
      "21        1       1                    0     1       1        0\n",
      "22        1       1                    0     1       1        0\n",
      "23        1       1                    0     1       1        0\n",
      "24        1       1                    0     1       0        0\n",
      "25        1       1                    0     1       1        0\n",
      "26        1       1                    0     1       1        1\n",
      "27        1       1                    0     1       1        0\n",
      "28        1       1                    0     1       1        0\n",
      "29        1       1                    0     1       1        0\n",
      "..      ...     ...                  ...   ...     ...      ...\n",
      "115       0       1                    0     1       0        0\n",
      "116       0       1                    0     1       0        0\n",
      "117       1       1                    1     1       1        0\n",
      "118       1       1                    0     1       0        0\n",
      "119       1       0                    0     1       0        0\n",
      "120       1       1                    1     1       1        1\n",
      "121       0       1                    1     1       0        0\n",
      "122       1       1                    0     1       0        1\n",
      "123       1       1                    1     1       0        0\n",
      "124       0       0                    0     1       0        1\n",
      "125       0       1                    0     1       0        0\n",
      "126       0       0                    0     1       1        1\n",
      "127       0       1                    0     0       1        0\n",
      "128       0       1                    0     0       1        1\n",
      "129       0       0                    0     0       0        0\n",
      "130       0       0                    0     0       1        1\n",
      "131       0       1                    0     1       0        0\n",
      "132       0       1                    0     1       0        0\n",
      "133       0       0                    0     0       1        0\n",
      "134       0       0                    0     0       0        0\n",
      "135       0       1                    0     1       0        0\n",
      "136       0       1                    0     1       0        0\n",
      "137       0       0                    0     0       0        0\n",
      "138       0       1                    0     0       0        0\n",
      "139       0       0                    0     0       0        0\n",
      "140       0       0                    0     1       0        0\n",
      "141       0       1                    0     1       1        0\n",
      "142       0       0                    0     0       0        1\n",
      "143       0       0                    0     0       0        0\n",
      "144       0       0                    0     0       1        0\n",
      "\n",
      "[145 rows x 6 columns]\n"
     ]
    }
   ],
   "source": [
    "import pandas as pd\n",
    "from sklearn.tree import DecisionTreeClassifier\n",
    "data = pd.read_csv('./data.csv')\n",
    "# print(data.head())\n",
    "df = data.drop('Unnamed: 0',axis=1)\n",
    "df = df.drop('Unnamed: 6',axis=1)\n",
    "# print(df)\n",
    "hotcodeLabel = df\n",
    "for i in range(len(hotcodeLabel['win_loss'])):\n",
    "    if hotcodeLabel['win_loss'][i] == 'loss':\n",
    "        df['win_loss'][i] = 0\n",
    "    else:\n",
    "        df['win_loss'][i] = 1\n",
    "print(df)"
   ]
  },
  {
   "cell_type": "code",
   "execution_count": 2,
   "metadata": {},
   "outputs": [
    {
     "name": "stdout",
     "output_type": "stream",
     "text": [
      "120\n",
      "120\n",
      "<class 'numpy.int64'>\n",
      "<class 'int'>\n"
     ]
    }
   ],
   "source": [
    "df_train = df[:120]\n",
    "df_test = df[120:]\n",
    "train_y = df_train['win_loss'].values\n",
    "df_train = df_train.drop('win_loss',axis=1)\n",
    "df_test = df_test.drop('win_loss',axis=1) #drop label for prediction\n",
    "print(len(train_y))\n",
    "print(len(df_train))\n",
    "print(type(df_train.values[0][0]))\n",
    "print(type(train_y[0]))"
   ]
  },
  {
   "cell_type": "code",
   "execution_count": 3,
   "metadata": {},
   "outputs": [
    {
     "data": {
      "text/plain": [
       "DecisionTreeClassifier(class_weight=None, criterion='gini', max_depth=4,\n",
       "            max_features=None, max_leaf_nodes=None,\n",
       "            min_impurity_decrease=0.0, min_impurity_split=None,\n",
       "            min_samples_leaf=1, min_samples_split=2,\n",
       "            min_weight_fraction_leaf=0.0, presort=False, random_state=None,\n",
       "            splitter='best')"
      ]
     },
     "execution_count": 3,
     "metadata": {},
     "output_type": "execute_result"
    }
   ],
   "source": [
    "model = DecisionTreeClassifier(max_depth=4)\n",
    "model.fit(df_train,list(train_y))"
   ]
  },
  {
   "cell_type": "code",
   "execution_count": 10,
   "metadata": {},
   "outputs": [
    {
     "data": {
      "text/plain": [
       "True"
      ]
     },
     "execution_count": 10,
     "metadata": {},
     "output_type": "execute_result"
    }
   ],
   "source": [
    "from sklearn.externals.six import StringIO\n",
    "from sklearn.tree import export_graphviz\n",
    "import pydotplus\n",
    "\n",
    "dot_data = StringIO()\n",
    "export_graphviz(model, \n",
    "                out_file=dot_data,  \n",
    "                filled=True, \n",
    "                feature_names=list(df_train),\n",
    "                class_names=['loss','win'],\n",
    "                special_characters=True)\n",
    "\n",
    "graph = pydotplus.graph_from_dot_data(dot_data.getvalue())  \n",
    "graph.write_pdf(\"tree.pdf\")"
   ]
  },
  {
   "cell_type": "code",
   "execution_count": 8,
   "metadata": {},
   "outputs": [],
   "source": [
    "import os\n",
    "os.environ['PATH'] = os.environ['PATH'] + (';c:\\\\Program Files (x86)\\\\graphviz-2.38\\\\bin\\\\')"
   ]
  },
  {
   "cell_type": "code",
   "execution_count": 13,
   "metadata": {},
   "outputs": [
    {
     "name": "stdout",
     "output_type": "stream",
     "text": [
      "[0 0 0 0 0 0 0 0 0 0 0 0 0 0 0 0 0 0 1 0 0 0 0 0 0]\n",
      "[1 0 1 0 1 0 1 0 1 0 1 0 0 0 0 0 0 0 0 0 0 0 1 0 0]\n"
     ]
    }
   ],
   "source": [
    "prediction = model.predict(df_test)\n",
    "print(prediction)\n",
    "y_test = df[120:]\n",
    "y_test = y_test['win_loss']\n",
    "print(y_test.values)"
   ]
  },
  {
   "cell_type": "code",
   "execution_count": 17,
   "metadata": {},
   "outputs": [
    {
     "name": "stdout",
     "output_type": "stream",
     "text": [
      "0.68\n"
     ]
    }
   ],
   "source": [
    "from sklearn.metrics import accuracy_score\n",
    "print(accuracy_score(list(y_test.values),prediction))"
   ]
  },
  {
   "cell_type": "code",
   "execution_count": null,
   "metadata": {},
   "outputs": [],
   "source": []
  }
 ],
 "metadata": {
  "kernelspec": {
   "display_name": "Python 3",
   "language": "python",
   "name": "python3"
  },
  "language_info": {
   "codemirror_mode": {
    "name": "ipython",
    "version": 3
   },
   "file_extension": ".py",
   "mimetype": "text/x-python",
   "name": "python",
   "nbconvert_exporter": "python",
   "pygments_lexer": "ipython3",
   "version": "3.6.4"
  }
 },
 "nbformat": 4,
 "nbformat_minor": 2
}
